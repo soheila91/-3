{
 "cells": [
  {
   "cell_type": "code",
   "execution_count": 17,
   "id": "72894d43",
   "metadata": {},
   "outputs": [
    {
     "name": "stdout",
     "output_type": "stream",
     "text": [
      "0 13.200000000000001\n",
      "1 13.365\n",
      "2 13.530000000000001\n",
      "3 13.695\n",
      "4 13.860000000000001\n",
      "5 14.025\n",
      "6 14.190000000000001\n",
      "7 14.355\n",
      "8 14.520000000000001\n",
      "9 14.685\n",
      "10 14.850000000000001\n",
      "11 15.015\n",
      "12 15.180000000000001\n",
      "13 15.345\n",
      "14 15.510000000000002\n",
      "15 15.675\n",
      "done\n"
     ]
    }
   ],
   "source": [
    "weight=80 \n",
    "for year in range (16):\n",
    "    weight_moon= weight*0.165   \n",
    "   \n",
    "    print(year,weight_moon)\n",
    "    weight +=1\n",
    "print('done')\n"
   ]
  },
  {
   "cell_type": "code",
   "execution_count": 9,
   "id": "5f99feb4",
   "metadata": {},
   "outputs": [
    {
     "name": "stdout",
     "output_type": "stream",
     "text": [
      "2.5\n"
     ]
    }
   ],
   "source": [
    "num= int(input(\"Enter integer number : \"))\n",
    "total=0\n",
    "for i in range (num+1):\n",
    "    total +=i\n",
    "    average= total/(num+1)\n",
    "print (average)\n",
    "\n"
   ]
  },
  {
   "cell_type": "code",
   "execution_count": 10,
   "id": "b8310eab",
   "metadata": {},
   "outputs": [
    {
     "name": "stdout",
     "output_type": "stream",
     "text": [
      "375\n"
     ]
    }
   ],
   "source": [
    "num= int(input(\"Enter integer number : \"))\n",
    "total_odd=0\n",
    "total_multiples5=0\n",
    "for i in range(num+1):\n",
    "    if i % 2 == 1:\n",
    "        total_odd+=i\n",
    "    if i % 5 == 0 :\n",
    "        total_multiples5 +=i\n",
    "result= total_odd * total_multiples5\n",
    "print(result)\n"
   ]
  }
 ],
 "metadata": {
  "kernelspec": {
   "display_name": "Python 3",
   "language": "python",
   "name": "python3"
  },
  "language_info": {
   "codemirror_mode": {
    "name": "ipython",
    "version": 3
   },
   "file_extension": ".py",
   "mimetype": "text/x-python",
   "name": "python",
   "nbconvert_exporter": "python",
   "pygments_lexer": "ipython3",
   "version": "3.10.11"
  }
 },
 "nbformat": 4,
 "nbformat_minor": 5
}
